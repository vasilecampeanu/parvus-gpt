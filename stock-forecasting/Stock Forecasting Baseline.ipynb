{
 "cells": [
  {
   "cell_type": "markdown",
   "metadata": {},
   "source": [
    "Trying to solve a forcastign problem using a simple neural network."
   ]
  },
  {
   "attachments": {},
   "cell_type": "markdown",
   "metadata": {},
   "source": [
    "# Imports"
   ]
  },
  {
   "cell_type": "code",
   "execution_count": null,
   "metadata": {},
   "outputs": [],
   "source": [
    "%matplotlib inline\n",
    "\n",
    "import numpy as np\n",
    "import matplotlib.pyplot as plt\n",
    "import pandas as pd\n",
    "import warnings"
   ]
  },
  {
   "attachments": {},
   "cell_type": "markdown",
   "metadata": {},
   "source": [
    "# Metasettings"
   ]
  },
  {
   "cell_type": "code",
   "execution_count": null,
   "metadata": {},
   "outputs": [],
   "source": [
    "warnings.filterwarnings('ignore') # Inhibit warning in console oiutputs"
   ]
  },
  {
   "cell_type": "markdown",
   "metadata": {},
   "source": [
    "# Stock Market Data Analysis"
   ]
  },
  {
   "cell_type": "code",
   "execution_count": null,
   "metadata": {},
   "outputs": [],
   "source": [
    "# Load the dataset\n",
    "dataset = 'google-stock-dataset.csv'\n",
    "dataframe = pd.read_csv(dataset)\n",
    "closed_stock_data = dataframe['Close'].astype(str).str.replace(',', '').astype(float)\n",
    "\n",
    "# Splitting the data 75/25\n",
    "\n",
    "split_index = int(len(closed_stock_data) * 0.75)\n",
    "train_data = closed_stock_data[:split_index]\n",
    "validation_data = closed_stock_data[split_index:]"
   ]
  },
  {
   "attachments": {},
   "cell_type": "markdown",
   "metadata": {},
   "source": [
    "# Data Analysis & Vizualization"
   ]
  },
  {
   "cell_type": "code",
   "execution_count": null,
   "metadata": {},
   "outputs": [],
   "source": [
    "# Creating the DataFrame\n",
    "closed_stock_data_analysis = pd.DataFrame()\n",
    "closed_stock_data_analysis['Close'] = train_data\n",
    "\n",
    "# Calculating moving averages\n",
    "closed_stock_data_analysis['SMA Close:21'] = closed_stock_data.rolling(window=21).mean()\n",
    "closed_stock_data_analysis['SMA Close:50'] = closed_stock_data.rolling(window=50).mean()\n",
    "closed_stock_data_analysis['SMA Close:99'] = closed_stock_data.rolling(window=99).mean()"
   ]
  },
  {
   "cell_type": "code",
   "execution_count": null,
   "metadata": {},
   "outputs": [],
   "source": [
    "# Plotting the training data\n",
    "closed_stock_data_analysis[[\n",
    "    'Close',\n",
    "    'SMA Close:21',\n",
    "    'SMA Close:50',\n",
    "    'SMA Close:99'\n",
    "]].plot(figsize=(16, 6))\n",
    "\n",
    "plt.show()"
   ]
  },
  {
   "cell_type": "code",
   "execution_count": null,
   "metadata": {},
   "outputs": [],
   "source": [
    "# Creating the DataFrame\n",
    "validation_stock_data_analysis = pd.DataFrame()\n",
    "validation_stock_data_analysis['Close'] = validation_data\n",
    "\n",
    "# Calculating moving averages\n",
    "validation_stock_data_analysis['SMA Close:21'] = closed_stock_data.rolling(window=21).mean()\n",
    "validation_stock_data_analysis['SMA Close:50'] = closed_stock_data.rolling(window=50).mean()\n",
    "validation_stock_data_analysis['SMA Close:99'] = closed_stock_data.rolling(window=99).mean()"
   ]
  },
  {
   "cell_type": "code",
   "execution_count": null,
   "metadata": {},
   "outputs": [],
   "source": [
    "# Plotting the training data\n",
    "validation_stock_data_analysis[[\n",
    "    'Close',\n",
    "    'SMA Close:21',\n",
    "    'SMA Close:50',\n",
    "    'SMA Close:99'\n",
    "]].plot(figsize=(16, 6))\n",
    "\n",
    "plt.show()"
   ]
  },
  {
   "attachments": {},
   "cell_type": "markdown",
   "metadata": {},
   "source": [
    "# Normalizating Training Data"
   ]
  },
  {
   "cell_type": "code",
   "execution_count": null,
   "metadata": {},
   "outputs": [],
   "source": [
    "# Normalizing between 0 and 1\n",
    "def normalize(data):\n",
    "    return (data - np.min(data)) / (np.max(data) - np.min(data))"
   ]
  },
  {
   "cell_type": "code",
   "execution_count": null,
   "metadata": {},
   "outputs": [],
   "source": [
    "closed_stock_data_normalized = normalize(closed_stock_data)\n",
    "closed_stock_data_normalized.plot(figsize=(16, 6))"
   ]
  },
  {
   "cell_type": "code",
   "execution_count": null,
   "metadata": {},
   "outputs": [],
   "source": [
    "validation_data_normalized = normalize(validation_data)\n",
    "validation_data_normalized.plot(figsize=(16, 6))"
   ]
  },
  {
   "cell_type": "markdown",
   "metadata": {},
   "source": [
    "# Neural Network Architecture"
   ]
  },
  {
   "cell_type": "code",
   "execution_count": null,
   "metadata": {},
   "outputs": [],
   "source": [
    "class NeuralNetwork(object):\n",
    "    # Define Hyperparameters\n",
    "    def __init__(self, inputLayerSize, hiddenLayerSize, outputLayerSize):\n",
    "        # Architecture\n",
    "        self.inputLayerSize  = inputLayerSize\n",
    "        self.hiddenLayerSize = hiddenLayerSize\n",
    "        self.outputLayerSize = outputLayerSize\n",
    "        \n",
    "        # Weights\n",
    "        self.W1 = np.random.randn(self.inputLayerSize,  self.hiddenLayerSize)\n",
    "        self.W2 = np.random.randn(self.hiddenLayerSize, self.outputLayerSize)\n",
    "\n",
    "    # Propogate inputs though network\n",
    "    def forward(self, X):\n",
    "        self.z2 = np.dot(X, self.W1)\n",
    "        self.a2 = self.sigmoid(self.z2)\n",
    "        self.z3 = np.dot(self.a2, self.W2)\n",
    "\n",
    "        yHat = self.sigmoid(self.z3) \n",
    "\n",
    "        return yHat\n",
    "\n",
    "    # Apply sigmoid activation function to scalar, vector, or matrix\n",
    "    def sigmoid(self, x, tetha = 0, g = 1):\n",
    "        return 1 / (1 + np.exp(-g * (x - tetha)))\n",
    "    \n",
    "    # Gradient of sigmoid\n",
    "    def sigmoidPrime(self, x, tetha = 0, g = 1):\n",
    "        return np.exp(-g * (x - tetha)) / ((1 + np.exp(-g * (x - tetha))) ** 2)\n",
    "    \n",
    "    # The mean square error\n",
    "    def costFunction(self, X, y):\n",
    "        self.yHat = self.forward(X)\n",
    "        return ((y - self.yHat) ** 2)\n",
    "\n",
    "    # Const function\n",
    "    def costFunctionPrime(self, X, y):\n",
    "        self.yHat = self.forward(X)\n",
    "\n",
    "        delta3 = np.multiply(- (y - self.yHat), self.sigmoidPrime(self.z3))\n",
    "        dJdW2  = np.array(self.a2) * delta3\n",
    "\n",
    "        delta2 = np.dot(delta3, self.W2.T) * self.sigmoidPrime(self.z2)\n",
    "        dJdW1  = np.dot(np.array(X).reshape(5, 1), np.array(delta2).reshape(1, 10))\n",
    "\n",
    "        return dJdW1, dJdW2\n",
    "\n",
    "    # Helper Functions for interacting with other classes:\n",
    "    # Get W1 and W2 unrolled into vector:\n",
    "    def getParams(self):  \n",
    "        params = np.concatenate((self.W1.ravel(), self.W2.ravel()))\n",
    "        return params\n",
    "\n",
    "    # Set W1 and W2 using single paramater vector.\n",
    "    def setParams(self, params):\n",
    "        W1_start = 0\n",
    "        W1_end = self.hiddenLayerSize * self.inputLayerSize\n",
    "        self.W1 = np.reshape(params[W1_start:W1_end], (self.inputLayerSize , self.hiddenLayerSize))\n",
    "        W2_end = W1_end + self.hiddenLayerSize*self.outputLayerSize\n",
    "        self.W2 = np.reshape(params[W1_end:W2_end], (self.hiddenLayerSize, self.outputLayerSize))"
   ]
  },
  {
   "attachments": {},
   "cell_type": "markdown",
   "metadata": {},
   "source": [
    "# Forward Propagation"
   ]
  },
  {
   "cell_type": "code",
   "execution_count": null,
   "metadata": {},
   "outputs": [],
   "source": [
    "NN = NeuralNetwork(5, 10, 1)"
   ]
  },
  {
   "cell_type": "code",
   "execution_count": null,
   "metadata": {},
   "outputs": [],
   "source": [
    "epocs = 1\n",
    "\n",
    "epoch_target_array = []\n",
    "epoch_activity_array = []\n",
    "\n",
    "for epoch in range(epocs):\n",
    "    for index in range(len(dataframe.index) - 5):\n",
    "        # Input values for the input layer\n",
    "        step_input = closed_stock_data_normalized[index:index + 5]\n",
    "\n",
    "        # Target values for the output neuron\n",
    "        target = closed_stock_data_normalized[index + 5]\n",
    "        epoch_target_array.append(target)\n",
    "\n",
    "        # Calculating the activity of the step\n",
    "        step_activity = NN.forward(step_input)\n",
    "        epoch_activity_array.append(step_activity)\n",
    "\n",
    "        print(\"Input layer: \", np.array(step_input), \"\\nStep target value:\", target, \"\\nStep activity:\", step_activity, \"\\n\")"
   ]
  },
  {
   "cell_type": "code",
   "execution_count": null,
   "metadata": {},
   "outputs": [],
   "source": [
    "forward_propagation_analysis = pd.DataFrame()\n",
    "\n",
    "forward_propagation_analysis['Normalized Input'] = closed_stock_data_normalized\n",
    "forward_propagation_analysis['Epoch Targets']    = pd.DataFrame(epoch_target_array)\n",
    "forward_propagation_analysis['Epoch Activities'] = pd.DataFrame(epoch_activity_array)\n",
    "\n",
    "forward_propagation_analysis[['Normalized Input', 'Epoch Targets', 'Epoch Activities']].plot(figsize=(16, 6))"
   ]
  },
  {
   "attachments": {},
   "cell_type": "markdown",
   "metadata": {},
   "source": [
    "# Backpropagation"
   ]
  },
  {
   "attachments": {},
   "cell_type": "markdown",
   "metadata": {},
   "source": [
    "## Activation Function"
   ]
  },
  {
   "cell_type": "code",
   "execution_count": null,
   "metadata": {},
   "outputs": [],
   "source": [
    "def sigmoid(x, tetha = 0, g = 1):\n",
    "    return 1 / (1 + np.exp(-g * (x - tetha)))"
   ]
  },
  {
   "cell_type": "code",
   "execution_count": null,
   "metadata": {},
   "outputs": [],
   "source": [
    "def sigmoidPrime(x, tetha = 0, g = 1):\n",
    "    return np.exp(-g * (x - tetha)) / ((1 + np.exp(-g * (x - tetha))) ** 2)"
   ]
  },
  {
   "cell_type": "code",
   "execution_count": null,
   "metadata": {},
   "outputs": [],
   "source": [
    "testValues = np.arange(-5, 5, 0.01)"
   ]
  },
  {
   "cell_type": "code",
   "execution_count": null,
   "metadata": {},
   "outputs": [],
   "source": [
    "plt.plot(testValues, sigmoid(testValues), linewidth=2)\n",
    "plt.plot(testValues, sigmoidPrime(testValues), linewidth=2)\n",
    "plt.grid(1)\n",
    "plt.legend(['sigmoid', 'sigmoidPrime'])"
   ]
  },
  {
   "attachments": {},
   "cell_type": "markdown",
   "metadata": {},
   "source": [
    "# Training"
   ]
  },
  {
   "cell_type": "code",
   "execution_count": null,
   "metadata": {},
   "outputs": [],
   "source": [
    "NN = NeuralNetwork(5, 10, 1)\n",
    "learning_rate = 0.9"
   ]
  },
  {
   "cell_type": "code",
   "execution_count": null,
   "metadata": {},
   "outputs": [],
   "source": [
    "epocs = 1000\n",
    "\n",
    "epoch_target_array   = []\n",
    "epoch_activity_array = []\n",
    "squared_error_array  = []\n",
    "\n",
    "mse_over_epochs = []\n",
    "\n",
    "for epoch in range(epocs):\n",
    "    for index in range(len(closed_stock_data_normalized) - 5):\n",
    "        # Input values for the input layer\n",
    "        step_input = closed_stock_data_normalized.iloc[index:index + 5].values\n",
    "\n",
    "        # Target values for the output neuron\n",
    "        target = closed_stock_data_normalized.iloc[index + 5]\n",
    "        epoch_target_array.append(target)\n",
    "\n",
    "        # Calculating the activity of the step\n",
    "        step_activity = NN.forward(step_input)\n",
    "        epoch_activity_array.append(step_activity)\n",
    "\n",
    "        # Squared Error\n",
    "        squared_error = NN.costFunction(step_input, target)\n",
    "        squared_error_array.append(squared_error)\n",
    "\n",
    "        # Updating weights\n",
    "        dJdW1, dJdW2 = NN.costFunctionPrime(step_input, target)\n",
    "\n",
    "        NN.W1 -= learning_rate * dJdW1\n",
    "        NN.W2 -= learning_rate * dJdW2.reshape(10, 1)\n",
    "\n",
    "    mse = np.mean(np.array(squared_error_array))\n",
    "    mse_over_epochs.append(mse)\n",
    "    print(f\"epoch: {epoch} | mean Squared Error:\", mse)\n",
    "\n",
    "optimized_parameters = NN.getParams()"
   ]
  },
  {
   "cell_type": "code",
   "execution_count": null,
   "metadata": {},
   "outputs": [],
   "source": [
    "back_propagation_analysis = pd.DataFrame()\n",
    "\n",
    "back_propagation_analysis['Normalized Input'] = closed_stock_data_normalized\n",
    "back_propagation_analysis['Epoch Targets']    = pd.DataFrame(epoch_target_array)\n",
    "back_propagation_analysis['Prediction Plot']  = pd.DataFrame(epoch_activity_array)\n",
    "\n",
    "back_propagation_analysis[['Normalized Input', 'Epoch Targets', 'Prediction Plot']].plot(figsize=(16, 6))"
   ]
  },
  {
   "cell_type": "code",
   "execution_count": null,
   "metadata": {},
   "outputs": [],
   "source": [
    "plt.plot(range(epocs), mse_over_epochs)\n",
    "plt.xlabel('Epochs')\n",
    "plt.ylabel('Mean Squared Error')\n",
    "plt.title('MSE over Epochs')\n",
    "plt.show()"
   ]
  },
  {
   "cell_type": "code",
   "execution_count": null,
   "metadata": {},
   "outputs": [],
   "source": [
    "# Check the structure and length of the validation data\n",
    "print(\"Validation data type:\", type(validation_data_normalized))\n",
    "print(\"Validation data length:\", len(validation_data_normalized))\n",
    "\n",
    "# Lists to store the results\n",
    "validation_target_array = []\n",
    "validation_activity_array = []\n",
    "validation_squared_error_array = []\n",
    "\n",
    "# Iterate through the validation data\n",
    "for index in range(len(validation_data_normalized) - 5):\n",
    "    try:\n",
    "        # Input values for the input layer\n",
    "        step_input = validation_data_normalized.iloc[index:index + 5].values\n",
    "\n",
    "        # Debug print to check the indices and input values\n",
    "        print(f\"Index: {index}, Step Input: {step_input}\")\n",
    "\n",
    "        # Target values for the output neuron\n",
    "        target = validation_data_normalized.iloc[index + 5]\n",
    "\n",
    "        # Debug print to check the target value\n",
    "        print(f\"Target: {target}\")\n",
    "\n",
    "        validation_target_array.append(target)\n",
    "\n",
    "        # Calculating the activity of the step\n",
    "        step_activity = NN.forward(step_input)\n",
    "        validation_activity_array.append(step_activity)\n",
    "\n",
    "        # Squared Error\n",
    "        squared_error = NN.costFunction(step_input, target)\n",
    "        validation_squared_error_array.append(squared_error)\n",
    "\n",
    "    except KeyError as e:\n",
    "        print(f\"KeyError at index {index}: {e}\")\n",
    "        break\n",
    "    except Exception as e:\n",
    "        print(f\"Exception at index {index}: {e}\")\n",
    "        break\n",
    "\n",
    "# Calculate Mean Squared Error for validation data\n",
    "if validation_squared_error_array:\n",
    "    validation_mse = np.mean(np.array(validation_squared_error_array))\n",
    "    print(\"Validation Mean Squared Error:\", validation_mse)\n",
    "else:\n",
    "    print(\"No validation squared errors were computed due to early stopping.\")\n",
    "\n",
    "# If you want to visualize the results\n",
    "if validation_target_array and validation_activity_array:\n",
    "    import matplotlib.pyplot as plt\n",
    "\n",
    "    plt.figure(figsize=(10, 5))\n",
    "    plt.plot(validation_target_array, label='Actual')\n",
    "    plt.plot(validation_activity_array, label='Predicted')\n",
    "    plt.legend()\n",
    "    plt.title('Actual vs Predicted values on Validation Data')\n",
    "    plt.xlabel('Time step')\n",
    "    plt.ylabel('Normalized Stock Price')\n",
    "    plt.show()\n",
    "else:\n",
    "    print(\"Insufficient data for plotting.\")"
   ]
  },
  {
   "cell_type": "code",
   "execution_count": null,
   "metadata": {},
   "outputs": [],
   "source": []
  }
 ],
 "metadata": {
  "kernelspec": {
   "display_name": "Python 3",
   "language": "python",
   "name": "python3"
  },
  "language_info": {
   "codemirror_mode": {
    "name": "ipython",
    "version": 3
   },
   "file_extension": ".py",
   "mimetype": "text/x-python",
   "name": "python",
   "nbconvert_exporter": "python",
   "pygments_lexer": "ipython3",
   "version": "3.9.19"
  },
  "orig_nbformat": 4,
  "vscode": {
   "interpreter": {
    "hash": "31f2aee4e71d21fbe5cf8b01ff0e069b9275f58929596ceb00d14d90e3e16cd6"
   }
  }
 },
 "nbformat": 4,
 "nbformat_minor": 2
}
