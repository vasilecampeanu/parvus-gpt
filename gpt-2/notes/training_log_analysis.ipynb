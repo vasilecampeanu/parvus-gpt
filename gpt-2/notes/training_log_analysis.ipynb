{
 "cells": [
  {
   "cell_type": "code",
   "execution_count": 2,
   "metadata": {},
   "outputs": [
    {
     "data": {
      "text/plain": [
       "0     10.934290\n",
       "1      9.524834\n",
       "2      8.794487\n",
       "3      8.602992\n",
       "4      8.399098\n",
       "5      8.366088\n",
       "6      8.299303\n",
       "7      7.979138\n",
       "8      7.702178\n",
       "9      7.659529\n",
       "10     7.634189\n",
       "11     7.468520\n",
       "12     7.420923\n",
       "13     7.214875\n",
       "14     7.109047\n",
       "15     6.935403\n",
       "16     6.835918\n",
       "17     6.835833\n",
       "18     6.696283\n",
       "19     6.534982\n",
       "20     6.578377\n",
       "21     6.437988\n",
       "22     6.522227\n",
       "23     6.384501\n",
       "24     6.367074\n",
       "25     6.430106\n",
       "26     6.621319\n",
       "27     6.506890\n",
       "28     6.748153\n",
       "29     6.533901\n",
       "30     6.528394\n",
       "31     6.532509\n",
       "32     6.389846\n",
       "33     6.724262\n",
       "34     6.575758\n",
       "35     6.454008\n",
       "36     6.517202\n",
       "37     6.505849\n",
       "38     6.273936\n",
       "39     6.310110\n",
       "40     6.593852\n",
       "41     6.349668\n",
       "42     6.370172\n",
       "43     6.097730\n",
       "44     6.040723\n",
       "45     6.098987\n",
       "46     6.221180\n",
       "47     6.187879\n",
       "48     6.061582\n",
       "49     5.919717\n",
       "Name: loss, dtype: float64"
      ]
     },
     "execution_count": 2,
     "metadata": {},
     "output_type": "execute_result"
    }
   ],
   "source": [
    "import pandas as pd\n",
    "import matplotlib.pyplot as plt\n",
    "\n",
    "# Load the data\n",
    "trainlog = pd.read_csv('../trainlog/training_log_cpu.csv')\n",
    "trainlog['loss']"
   ]
  },
  {
   "cell_type": "code",
   "execution_count": null,
   "metadata": {},
   "outputs": [],
   "source": []
  }
 ],
 "metadata": {
  "kernelspec": {
   "display_name": "shakespeare-gpt",
   "language": "python",
   "name": "python3"
  },
  "language_info": {
   "codemirror_mode": {
    "name": "ipython",
    "version": 3
   },
   "file_extension": ".py",
   "mimetype": "text/x-python",
   "name": "python",
   "nbconvert_exporter": "python",
   "pygments_lexer": "ipython3",
   "version": "3.9.-1"
  }
 },
 "nbformat": 4,
 "nbformat_minor": 2
}
